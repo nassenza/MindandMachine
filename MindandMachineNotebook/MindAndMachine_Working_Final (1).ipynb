{
 "cells": [
  {
   "cell_type": "markdown",
   "id": "ac08d933",
   "metadata": {},
   "source": [
    "# Mind and Machine – Final Notebook\n",
    "This notebook builds your full interactive website with real assets and functionality."
   ]
  },
  {
   "cell_type": "code",
   "execution_count": 1,
   "id": "ee7a14b0",
   "metadata": {},
   "outputs": [
    {
     "name": "stdout",
     "output_type": "stream",
     "text": [
      "✅ Site built at: C:/Users/ASUS/Documents/MindAndMachine_Final_Site\\index.html\n"
     ]
    }
   ],
   "source": [
    "\n",
    "import os, shutil, pandas as pd, math\n",
    "\n",
    "# === SETUP ===\n",
    "base_path = r\"C:/Users/ASUS/Documents/MindAndMachine_Final_Site\"\n",
    "assets = os.path.join(base_path, \"assets\")\n",
    "os.makedirs(assets, exist_ok=True)\n",
    "\n",
    "# === INPUT FILES ===\n",
    "brain_mov = r\"C:/Users/ASUS/OneDrive/Desktop/Brain.mov\"\n",
    "outro_img = r\"C:/Users/ASUS/Downloads/brain_network.jpg\"\n",
    "nodes_csv = r\"C:/Users/ASUS/Downloads/brain_ai_visualization_cleaned.csv\"\n",
    "\n",
    "shutil.copy(brain_mov, os.path.join(assets, \"brain.mov\"))\n",
    "shutil.copy(outro_img, os.path.join(assets, \"outro.jpg\"))\n",
    "shutil.copy(nodes_csv, os.path.join(base_path, \"nodes.csv\"))\n",
    "\n",
    "df = pd.read_csv(nodes_csv)\n",
    "\n",
    "# === COPY VISUALS ===\n",
    "for col in [\"Anatomical GIF URL\", \"AI Visualization URL\"]:\n",
    "    for path in df[col].dropna().unique():\n",
    "        fname = os.path.basename(path)\n",
    "        if os.path.exists(path):\n",
    "            shutil.copy(path, os.path.join(assets, fname))\n",
    "\n",
    "# === RING POSITIONS ===\n",
    "positions = []\n",
    "count = len(df)\n",
    "for i in range(count):\n",
    "    angle = 2 * math.pi * i / count\n",
    "    x = 50 + 35 * math.cos(angle)\n",
    "    y = 50 + 35 * math.sin(angle)\n",
    "    positions.append((x, y))\n",
    "\n",
    "# === WRITE HTML ===\n",
    "html_path = os.path.join(base_path, \"index.html\")\n",
    "with open(html_path, \"w\", encoding=\"utf-8\") as f:\n",
    "    f.write(\"\"\"<!DOCTYPE html><html><head><meta charset='utf-8'>\n",
    "<title>Mind and Machine</title>\n",
    "<style>\n",
    "html, body {\n",
    "  margin: 0; background: black; color: white; overflow: hidden;\n",
    "  font-family: sans-serif;\n",
    "}\n",
    "#brain {\n",
    "  position: absolute; top: 50%; left: 50%;\n",
    "  transform: translate(-50%, -50%);\n",
    "  width: 400px; height: 400px; z-index: 2;\n",
    "}\n",
    ".label {\n",
    "  position: absolute;\n",
    "  background: rgba(0,0,0,0.6);\n",
    "  color: white;\n",
    "  padding: 4px 8px;\n",
    "  border-radius: 4px;\n",
    "  font-weight: bold;\n",
    "  font-size: 14px;\n",
    "  z-index: 3;\n",
    "}\n",
    ".line {\n",
    "  stroke: white;\n",
    "  stroke-width: 2px;\n",
    "}\n",
    "#outro {\n",
    "  display: none;\n",
    "  position: fixed;\n",
    "  top:0; left:0;\n",
    "  width:100vw; height:100vh;\n",
    "  background: url('assets/outro.jpg') no-repeat center center;\n",
    "  background-size: cover;\n",
    "  z-index: 9999;\n",
    "  color: white;\n",
    "  text-align: center;\n",
    "  justify-content: center;\n",
    "  align-items: center;\n",
    "  flex-direction: column;\n",
    "  font-size: 3em;\n",
    "}\n",
    "</style></head><body>\n",
    "<video id='brain' autoplay muted loop><source src='assets/brain.mov' type='video/mp4'></video>\n",
    "<svg width='100%' height='100%' style='position:absolute;top:0;left:0;z-index:1;'>\\n\"\"\")\n",
    "\n",
    "    for (x, y) in positions:\n",
    "        f.write(f\"<line class='line' x1='50%' y1='50%' x2='{x}%' y2='{y}%' />\\n\")\n",
    "    f.write(\"</svg>\\n\")\n",
    "    for (x, y), (_, row) in zip(positions, df.iterrows()):\n",
    "        f.write(f\"<div class='label' style='left:{x}%; top:{y}%;'>{row['Brain Region']}</div>\\n\")\n",
    "    f.write(\"<div id='outro'><h1>Mind and Machine</h1><h2>Nicole Assenza</h2></div>\")\n",
    "    f.write(\"</body></html>\")\n",
    "\n",
    "print(f\"✅ Site built at: {html_path}\")\n"
   ]
  },
  {
   "cell_type": "code",
   "execution_count": 2,
   "id": "08c0aa06",
   "metadata": {},
   "outputs": [
    {
     "data": {
      "text/html": [
       "\n",
       "        <iframe\n",
       "            width=\"100%\"\n",
       "            height=\"600\"\n",
       "            src=\"C:/Users/ASUS/Documents/MindAndMachine_Final_Site/index.html\"\n",
       "            frameborder=\"0\"\n",
       "            allowfullscreen\n",
       "            \n",
       "        ></iframe>\n",
       "        "
      ],
      "text/plain": [
       "<IPython.lib.display.IFrame at 0x28db3442330>"
      ]
     },
     "execution_count": 2,
     "metadata": {},
     "output_type": "execute_result"
    }
   ],
   "source": [
    "\n",
    "# === PREVIEW LOCALLY ===\n",
    "from IPython.display import IFrame\n",
    "IFrame(\"C:/Users/ASUS/Documents/MindAndMachine_Final_Site/index.html\", width='100%', height='600')\n"
   ]
  },
  {
   "cell_type": "code",
   "execution_count": null,
   "id": "2f0bdeb8-bbd2-4af5-8dae-c2c10d0623e9",
   "metadata": {},
   "outputs": [],
   "source": []
  }
 ],
 "metadata": {
  "kernelspec": {
   "display_name": "Python 3 (ipykernel)",
   "language": "python",
   "name": "python3"
  },
  "language_info": {
   "codemirror_mode": {
    "name": "ipython",
    "version": 3
   },
   "file_extension": ".py",
   "mimetype": "text/x-python",
   "name": "python",
   "nbconvert_exporter": "python",
   "pygments_lexer": "ipython3",
   "version": "3.12.7"
  }
 },
 "nbformat": 4,
 "nbformat_minor": 5
}
